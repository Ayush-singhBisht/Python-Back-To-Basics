{
 "cells": [
  {
   "cell_type": "markdown",
   "id": "4cb92fa5",
   "metadata": {},
   "source": [
    "# GETTING STARTED WITH PYTHON"
   ]
  },
  {
   "cell_type": "markdown",
   "id": "c9baef8f",
   "metadata": {},
   "source": [
    " "
   ]
  },
  {
   "cell_type": "markdown",
   "id": "bf30a9c4",
   "metadata": {},
   "source": [
    " "
   ]
  },
  {
   "cell_type": "markdown",
   "id": "04a59467",
   "metadata": {},
   "source": [
    " "
   ]
  },
  {
   "cell_type": "markdown",
   "id": "01313cfb",
   "metadata": {},
   "source": [
    "## 1) Printing and Commenting"
   ]
  },
  {
   "cell_type": "code",
   "execution_count": 1,
   "id": "e76cd717",
   "metadata": {},
   "outputs": [
    {
     "name": "stdout",
     "output_type": "stream",
     "text": [
      "hello world\n"
     ]
    }
   ],
   "source": [
    "print(\"hello world\")"
   ]
  },
  {
   "cell_type": "code",
   "execution_count": 2,
   "id": "9948ba47",
   "metadata": {},
   "outputs": [
    {
     "name": "stdout",
     "output_type": "stream",
     "text": [
      "Hello\n",
      "Ayush\n"
     ]
    }
   ],
   "source": [
    "print(\"Hello\")\n",
    "print(\"Ayush\")"
   ]
  },
  {
   "cell_type": "code",
   "execution_count": 3,
   "id": "2f507bc7",
   "metadata": {},
   "outputs": [
    {
     "name": "stdout",
     "output_type": "stream",
     "text": [
      "Hello Ayush\n"
     ]
    }
   ],
   "source": [
    "print(\"Hello\",end=\" \")\n",
    "print(\"Ayush\")"
   ]
  },
  {
   "cell_type": "code",
   "execution_count": 4,
   "id": "b6c68df4",
   "metadata": {},
   "outputs": [
    {
     "name": "stdout",
     "output_type": "stream",
     "text": [
      "AYUSH\n",
      "KING\n"
     ]
    }
   ],
   "source": [
    "print(\"AYUSH\\nKING\")"
   ]
  },
  {
   "cell_type": "code",
   "execution_count": 5,
   "id": "93847b1c",
   "metadata": {},
   "outputs": [
    {
     "data": {
      "text/plain": [
       "'comment2'"
      ]
     },
     "execution_count": 5,
     "metadata": {},
     "output_type": "execute_result"
    }
   ],
   "source": [
    "#comment1\n",
    "'''comment2'''"
   ]
  },
  {
   "cell_type": "markdown",
   "id": "9d6bb815",
   "metadata": {},
   "source": [
    "##  2) Formatting"
   ]
  },
  {
   "cell_type": "code",
   "execution_count": 6,
   "id": "99b2dab4",
   "metadata": {},
   "outputs": [],
   "source": [
    "x=120\n",
    "y=180"
   ]
  },
  {
   "cell_type": "code",
   "execution_count": 7,
   "id": "097d4098",
   "metadata": {},
   "outputs": [
    {
     "name": "stdout",
     "output_type": "stream",
     "text": [
      "print value 120\n"
     ]
    }
   ],
   "source": [
    "print(\"print value\",x)"
   ]
  },
  {
   "cell_type": "code",
   "execution_count": 8,
   "id": "8d693980",
   "metadata": {},
   "outputs": [
    {
     "name": "stdout",
     "output_type": "stream",
     "text": [
      "i love you!!\n"
     ]
    }
   ],
   "source": [
    "print(\"{0} love {1}!!\".format(\"i\",\"you\"))"
   ]
  },
  {
   "cell_type": "code",
   "execution_count": 9,
   "id": "b0056e39",
   "metadata": {},
   "outputs": [
    {
     "name": "stdout",
     "output_type": "stream",
     "text": [
      "value of x = 120 and y = 180\n"
     ]
    }
   ],
   "source": [
    "print(\"value of x = {0} and y = {1}\".format(x,y))"
   ]
  },
  {
   "cell_type": "markdown",
   "id": "68f7c7c8",
   "metadata": {},
   "source": [
    "## 3) DATA TYPE"
   ]
  },
  {
   "cell_type": "code",
   "execution_count": 10,
   "id": "46352045",
   "metadata": {},
   "outputs": [],
   "source": [
    "w=10\n",
    "x=3.2\n",
    "y='y'\n",
    "z=True"
   ]
  },
  {
   "cell_type": "code",
   "execution_count": 11,
   "id": "08f1bb82",
   "metadata": {},
   "outputs": [
    {
     "data": {
      "text/plain": [
       "int"
      ]
     },
     "execution_count": 11,
     "metadata": {},
     "output_type": "execute_result"
    }
   ],
   "source": [
    "type(w)"
   ]
  },
  {
   "cell_type": "code",
   "execution_count": 12,
   "id": "a6a1f11c",
   "metadata": {},
   "outputs": [
    {
     "data": {
      "text/plain": [
       "float"
      ]
     },
     "execution_count": 12,
     "metadata": {},
     "output_type": "execute_result"
    }
   ],
   "source": [
    "type(x)"
   ]
  },
  {
   "cell_type": "code",
   "execution_count": 13,
   "id": "b8269f94",
   "metadata": {},
   "outputs": [
    {
     "data": {
      "text/plain": [
       "str"
      ]
     },
     "execution_count": 13,
     "metadata": {},
     "output_type": "execute_result"
    }
   ],
   "source": [
    "type(y)"
   ]
  },
  {
   "cell_type": "code",
   "execution_count": 14,
   "id": "fa521e4b",
   "metadata": {},
   "outputs": [
    {
     "data": {
      "text/plain": [
       "bool"
      ]
     },
     "execution_count": 14,
     "metadata": {},
     "output_type": "execute_result"
    }
   ],
   "source": [
    "type(z)"
   ]
  },
  {
   "cell_type": "code",
   "execution_count": 15,
   "id": "808a7f96",
   "metadata": {},
   "outputs": [
    {
     "name": "stdout",
     "output_type": "stream",
     "text": [
      "type of 3.2 is <class 'float'>\n"
     ]
    }
   ],
   "source": [
    "print(\"type of {} is {}\".format(x,type(x)))"
   ]
  },
  {
   "cell_type": "markdown",
   "id": "60b4b6ae",
   "metadata": {},
   "source": [
    "## 4)Reserved Words"
   ]
  },
  {
   "cell_type": "code",
   "execution_count": 16,
   "id": "4844e96a",
   "metadata": {
    "scrolled": true
   },
   "outputs": [
    {
     "name": "stdout",
     "output_type": "stream",
     "text": [
      "['False', 'None', 'True', '__peg_parser__', 'and', 'as', 'assert', 'async', 'await', 'break', 'class', 'continue', 'def', 'del', 'elif', 'else', 'except', 'finally', 'for', 'from', 'global', 'if', 'import', 'in', 'is', 'lambda', 'nonlocal', 'not', 'or', 'pass', 'raise', 'return', 'try', 'while', 'with', 'yield']\n"
     ]
    }
   ],
   "source": [
    "import keyword\n",
    "print(keyword.kwlist)"
   ]
  },
  {
   "cell_type": "markdown",
   "id": "d1cc3250",
   "metadata": {},
   "source": [
    "## 5)Indentation"
   ]
  },
  {
   "cell_type": "code",
   "execution_count": 17,
   "id": "92f0ecb1",
   "metadata": {},
   "outputs": [
    {
     "ename": "IndentationError",
     "evalue": "unexpected indent (454056020.py, line 2)",
     "output_type": "error",
     "traceback": [
      "\u001b[1;36m  File \u001b[1;32m\"C:\\Users\\ayush\\AppData\\Local\\Temp\\ipykernel_24640\\454056020.py\"\u001b[1;36m, line \u001b[1;32m2\u001b[0m\n\u001b[1;33m    print(\"error\")\u001b[0m\n\u001b[1;37m    ^\u001b[0m\n\u001b[1;31mIndentationError\u001b[0m\u001b[1;31m:\u001b[0m unexpected indent\n"
     ]
    }
   ],
   "source": [
    "print(\"hello\")\n",
    " print(\"error\")"
   ]
  },
  {
   "cell_type": "markdown",
   "id": "7afff552",
   "metadata": {},
   "source": [
    "## 6)Input from user"
   ]
  },
  {
   "cell_type": "code",
   "execution_count": null,
   "id": "3535c5cd",
   "metadata": {},
   "outputs": [],
   "source": [
    "x=input() #by default string\n",
    "type(x)"
   ]
  },
  {
   "cell_type": "code",
   "execution_count": null,
   "id": "b101bd27",
   "metadata": {},
   "outputs": [],
   "source": [
    "y=int(input())\n",
    "print(type(y),y)"
   ]
  },
  {
   "cell_type": "code",
   "execution_count": null,
   "id": "880989b5",
   "metadata": {},
   "outputs": [],
   "source": [
    "# 2input using split\n",
    "x,y=input().split(\",\")\n",
    "print(x,y)"
   ]
  },
  {
   "cell_type": "markdown",
   "id": "4f7e7141",
   "metadata": {},
   "source": [
    "## 7)Control Statement = if-else-elif"
   ]
  },
  {
   "cell_type": "code",
   "execution_count": null,
   "id": "dc45eb19",
   "metadata": {},
   "outputs": [],
   "source": [
    "age=int(input(\"Enter age :\"))\n",
    "if(age<=0 or age>=200):\n",
    "    print(\"are you kidding me?\")\n",
    "elif(age>=18):\n",
    "    print(\"its a leagal age\")\n",
    "else:\n",
    "    print(\"underage\")"
   ]
  },
  {
   "cell_type": "markdown",
   "id": "6575f76b",
   "metadata": {},
   "source": [
    "## 8)Operators"
   ]
  },
  {
   "cell_type": "markdown",
   "id": "a8bf3295",
   "metadata": {},
   "source": [
    " "
   ]
  },
  {
   "cell_type": "markdown",
   "id": "357aebeb",
   "metadata": {},
   "source": [
    "## a)Arithimetic operators"
   ]
  },
  {
   "cell_type": "code",
   "execution_count": null,
   "id": "64034ba2",
   "metadata": {},
   "outputs": [],
   "source": [
    "x=3\n",
    "y=5"
   ]
  },
  {
   "cell_type": "markdown",
   "id": "bf1c1a0d",
   "metadata": {},
   "source": [
    "#### 1)Addition (+)"
   ]
  },
  {
   "cell_type": "code",
   "execution_count": null,
   "id": "c648eadf",
   "metadata": {},
   "outputs": [],
   "source": [
    "print(x+y)"
   ]
  },
  {
   "cell_type": "markdown",
   "id": "493efcfb",
   "metadata": {},
   "source": [
    "#### 2)Subtraction (-)"
   ]
  },
  {
   "cell_type": "code",
   "execution_count": null,
   "id": "3562e8ac",
   "metadata": {},
   "outputs": [],
   "source": [
    "print(x-y)"
   ]
  },
  {
   "cell_type": "markdown",
   "id": "22e947db",
   "metadata": {},
   "source": [
    "#### 3)Multiplication (*)"
   ]
  },
  {
   "cell_type": "code",
   "execution_count": null,
   "id": "1ff08d5c",
   "metadata": {},
   "outputs": [],
   "source": [
    "print(x*y)"
   ]
  },
  {
   "cell_type": "markdown",
   "id": "3557ad18",
   "metadata": {},
   "source": [
    "#### 4)Division (/)"
   ]
  },
  {
   "cell_type": "code",
   "execution_count": null,
   "id": "b181ebd4",
   "metadata": {},
   "outputs": [],
   "source": [
    "print(x/y)"
   ]
  },
  {
   "cell_type": "markdown",
   "id": "baea1d94",
   "metadata": {},
   "source": [
    "#### 5)Modulus (%) "
   ]
  },
  {
   "cell_type": "code",
   "execution_count": null,
   "id": "32eabbdb",
   "metadata": {},
   "outputs": [],
   "source": [
    "print(x%y)"
   ]
  },
  {
   "cell_type": "markdown",
   "id": "daf24684",
   "metadata": {},
   "source": [
    "#### 6)Exponential (**)"
   ]
  },
  {
   "cell_type": "code",
   "execution_count": null,
   "id": "d674bfc5",
   "metadata": {},
   "outputs": [],
   "source": [
    "print(x**y)"
   ]
  },
  {
   "cell_type": "markdown",
   "id": "e5d9d983",
   "metadata": {},
   "source": [
    "#### 7)Floor division (//)"
   ]
  },
  {
   "cell_type": "code",
   "execution_count": null,
   "id": "8dc61aec",
   "metadata": {},
   "outputs": [],
   "source": [
    "print(x//y)"
   ]
  },
  {
   "cell_type": "markdown",
   "id": "ff57bd9d",
   "metadata": {},
   "source": [
    "## b)Assignment operators\n",
    "### 1.(=)\t                   x = 5\t\n",
    "### 2.(+=)                    x = x + 3\t\n",
    "### 3.(-=)                     x = x - 3\t\n",
    "### 4.(*=)\t \t               x = x * 3\n",
    "### 5.(/=)                     x = x / 3\t\n",
    "### 6.(%=)                   x = x % 3\t\n",
    "### 7.(//=)\t \t               x = x // 3\t\n",
    "### 8.(**=)                   x = x ** 3\t\n",
    "### 9.(&=)                   x = x & 3\t\n",
    "### 10.(|=)\t \t             x = x | 3\n",
    "### 11.(^=)                 x = x ^ 3\t\n",
    "### 12.(>>=)              x = x >> 3\t\n",
    "### 13.(<<=)     \t \t  x = x << 3\t\n"
   ]
  },
  {
   "cell_type": "markdown",
   "id": "ed3154aa",
   "metadata": {},
   "source": [
    "## c)Relational & comparison operator\n"
   ]
  },
  {
   "cell_type": "code",
   "execution_count": null,
   "id": "b559e2da",
   "metadata": {},
   "outputs": [],
   "source": [
    "print(x!=y)"
   ]
  },
  {
   "cell_type": "code",
   "execution_count": null,
   "id": "0709c421",
   "metadata": {},
   "outputs": [],
   "source": [
    "print(x<y)"
   ]
  },
  {
   "cell_type": "code",
   "execution_count": null,
   "id": "246a62df",
   "metadata": {},
   "outputs": [],
   "source": [
    "print(x>y)"
   ]
  },
  {
   "cell_type": "code",
   "execution_count": null,
   "id": "126c5be4",
   "metadata": {},
   "outputs": [],
   "source": [
    "print(x>=y)"
   ]
  },
  {
   "cell_type": "code",
   "execution_count": null,
   "id": "3e9571b9",
   "metadata": {},
   "outputs": [],
   "source": [
    "print(x<=y)"
   ]
  },
  {
   "cell_type": "code",
   "execution_count": null,
   "id": "df3a3299",
   "metadata": {},
   "outputs": [],
   "source": [
    "print(x==y)"
   ]
  },
  {
   "cell_type": "markdown",
   "id": "06591e34",
   "metadata": {},
   "source": [
    "## d)Logical operators\n"
   ]
  },
  {
   "cell_type": "code",
   "execution_count": null,
   "id": "47b416ee",
   "metadata": {},
   "outputs": [],
   "source": [
    "a=1\n",
    "b=0"
   ]
  },
  {
   "cell_type": "code",
   "execution_count": null,
   "id": "c0267b16",
   "metadata": {},
   "outputs": [],
   "source": [
    "print(a and b)\n",
    "print(a or b)\n",
    "print(not b)"
   ]
  },
  {
   "cell_type": "code",
   "execution_count": null,
   "id": "d7285596",
   "metadata": {},
   "outputs": [],
   "source": [
    "print(a>3 and b<3)"
   ]
  },
  {
   "cell_type": "code",
   "execution_count": null,
   "id": "08df41c3",
   "metadata": {},
   "outputs": [],
   "source": [
    "print(a>3 & b>3)"
   ]
  },
  {
   "cell_type": "markdown",
   "id": "abce3711",
   "metadata": {},
   "source": [
    "## e)Membership operator"
   ]
  },
  {
   "cell_type": "code",
   "execution_count": null,
   "id": "200b33f0",
   "metadata": {},
   "outputs": [],
   "source": [
    "print(\"I\" in \"me\")"
   ]
  },
  {
   "cell_type": "code",
   "execution_count": null,
   "id": "8c968f89",
   "metadata": {},
   "outputs": [],
   "source": [
    "print(\"me\" not in \"you\")"
   ]
  },
  {
   "cell_type": "markdown",
   "id": "4d6df963",
   "metadata": {},
   "source": [
    "## f)Identity operator"
   ]
  },
  {
   "cell_type": "code",
   "execution_count": null,
   "id": "d4113f6b",
   "metadata": {},
   "outputs": [],
   "source": [
    "x=1\n",
    "y=\"b\"\n",
    "print(type(x) is not str)\n",
    "print(type(x) is type(y))"
   ]
  },
  {
   "cell_type": "code",
   "execution_count": null,
   "id": "821b51de",
   "metadata": {},
   "outputs": [],
   "source": [
    "print(type(y),type(z))"
   ]
  },
  {
   "cell_type": "markdown",
   "id": "b67a8b61",
   "metadata": {},
   "source": [
    "## 9)LOOPS\n"
   ]
  },
  {
   "cell_type": "markdown",
   "id": "15fbb8ba",
   "metadata": {},
   "source": [
    "### a)For Loop"
   ]
  },
  {
   "cell_type": "code",
   "execution_count": null,
   "id": "f25fe2c8",
   "metadata": {},
   "outputs": [],
   "source": [
    "for i in range(0,16,1):\n",
    "    print(i,end=\" \")"
   ]
  },
  {
   "cell_type": "code",
   "execution_count": null,
   "id": "fe797fa3",
   "metadata": {},
   "outputs": [],
   "source": [
    "for i in range(16,0,-1):\n",
    "    print(i,end=\" \")"
   ]
  },
  {
   "cell_type": "markdown",
   "id": "af459dc3",
   "metadata": {},
   "source": [
    "### b)While loop"
   ]
  },
  {
   "cell_type": "code",
   "execution_count": null,
   "id": "ec9d87e9",
   "metadata": {},
   "outputs": [],
   "source": [
    "x=5\n",
    "while(x<10):\n",
    "    print(x,end=\" \")\n",
    "    x+=1"
   ]
  },
  {
   "cell_type": "code",
   "execution_count": null,
   "id": "058eabd0",
   "metadata": {},
   "outputs": [],
   "source": [
    "x=-5\n",
    "while(x<0):\n",
    "    print(x,end=\" \")\n",
    "    x+=1"
   ]
  },
  {
   "cell_type": "code",
   "execution_count": null,
   "id": "7f8043c3",
   "metadata": {},
   "outputs": [],
   "source": [
    "x=int(input(\"Enter a number :\"))\n",
    "while(x>5 and x<=15):\n",
    "    print(x,end=\" \")\n",
    "    x+=1"
   ]
  },
  {
   "cell_type": "markdown",
   "id": "c1fbc92f",
   "metadata": {},
   "source": [
    "## c)EXIT CONTROL LOOP \n",
    "\n",
    "### a)break "
   ]
  },
  {
   "cell_type": "code",
   "execution_count": null,
   "id": "90b020a8",
   "metadata": {},
   "outputs": [],
   "source": [
    "x=0\n",
    "while 1:\n",
    "    print(x,end=\" \")\n",
    "    x+=1\n",
    "    if(x==10):\n",
    "        break"
   ]
  },
  {
   "cell_type": "markdown",
   "id": "dc359211",
   "metadata": {},
   "source": [
    "### b)continue"
   ]
  },
  {
   "cell_type": "code",
   "execution_count": null,
   "id": "e2614843",
   "metadata": {},
   "outputs": [],
   "source": [
    "for i in range(15):\n",
    "    if(i==10):\n",
    "        continue\n",
    "    print(i,end=\" \")"
   ]
  },
  {
   "cell_type": "markdown",
   "id": "3d81b40c",
   "metadata": {},
   "source": [
    "### c)pass"
   ]
  },
  {
   "cell_type": "code",
   "execution_count": null,
   "id": "ef72865c",
   "metadata": {},
   "outputs": [],
   "source": [
    "for i in range(10):\n",
    "    if i == 5:\n",
    "        pass\n",
    "    else:\n",
    "        print(i,end=\" \")\n"
   ]
  },
  {
   "cell_type": "markdown",
   "id": "874c70b4",
   "metadata": {},
   "source": [
    "## 10)String Operations"
   ]
  },
  {
   "cell_type": "code",
   "execution_count": null,
   "id": "a4e02367",
   "metadata": {},
   "outputs": [],
   "source": [
    "s1=\"python\"\n",
    "s2=\"code\""
   ]
  },
  {
   "cell_type": "code",
   "execution_count": null,
   "id": "d7756860",
   "metadata": {},
   "outputs": [],
   "source": [
    "s3=s1+s2\n",
    "print(s3)"
   ]
  },
  {
   "cell_type": "code",
   "execution_count": null,
   "id": "e0746c39",
   "metadata": {},
   "outputs": [],
   "source": [
    "print(len(s1))"
   ]
  },
  {
   "cell_type": "code",
   "execution_count": null,
   "id": "6439e353",
   "metadata": {},
   "outputs": [],
   "source": [
    "print(s1.upper())\n",
    "print(s2.lower())"
   ]
  },
  {
   "cell_type": "code",
   "execution_count": null,
   "id": "c6c52184",
   "metadata": {},
   "outputs": [],
   "source": [
    "print(s3.count(\"o\"))"
   ]
  },
  {
   "cell_type": "code",
   "execution_count": null,
   "id": "7aa8d8dc",
   "metadata": {},
   "outputs": [],
   "source": [
    "s1=\"hello python world\"\n",
    "print(s1.title())"
   ]
  },
  {
   "cell_type": "code",
   "execution_count": null,
   "id": "7283ed51",
   "metadata": {},
   "outputs": [],
   "source": [
    "print(s1.find(\"z\")) \n",
    "s1.find(\"o\")"
   ]
  },
  {
   "cell_type": "code",
   "execution_count": null,
   "id": "2cd19221",
   "metadata": {},
   "outputs": [],
   "source": [
    "print(s1.index(\"p\"))"
   ]
  },
  {
   "cell_type": "code",
   "execution_count": null,
   "id": "cc3c0456",
   "metadata": {},
   "outputs": [],
   "source": [
    "s2=\" hello\"\n",
    "print(s2.strip())\n",
    "print(s2)"
   ]
  },
  {
   "cell_type": "code",
   "execution_count": null,
   "id": "453fca88",
   "metadata": {},
   "outputs": [],
   "source": [
    "s2=s1.replace(\"p\",\"zi\")\n",
    "print(s2)"
   ]
  },
  {
   "cell_type": "markdown",
   "id": "0ee1ed67",
   "metadata": {},
   "source": [
    "# DATA STRUCTURES"
   ]
  },
  {
   "cell_type": "markdown",
   "id": "24bd61f6",
   "metadata": {},
   "source": [
    "\n",
    "## 11)List"
   ]
  },
  {
   "cell_type": "code",
   "execution_count": null,
   "id": "8ee57b99",
   "metadata": {},
   "outputs": [],
   "source": [
    "l=[]\n",
    "print(type(l))"
   ]
  },
  {
   "cell_type": "code",
   "execution_count": null,
   "id": "70621da4",
   "metadata": {},
   "outputs": [],
   "source": [
    "l1=[1,2,\"str\",[7,8,9]]\n",
    "print(l1[2][1])"
   ]
  },
  {
   "cell_type": "code",
   "execution_count": null,
   "id": "9b112348",
   "metadata": {},
   "outputs": [],
   "source": [
    "print(len(l1))"
   ]
  },
  {
   "cell_type": "code",
   "execution_count": null,
   "id": "7f6ccf6a",
   "metadata": {},
   "outputs": [],
   "source": [
    "print(l1[1:4:2])"
   ]
  },
  {
   "cell_type": "code",
   "execution_count": null,
   "id": "03343a1a",
   "metadata": {},
   "outputs": [],
   "source": [
    "#append\n",
    "l1.append(l)\n",
    "print(l1)"
   ]
  },
  {
   "cell_type": "code",
   "execution_count": null,
   "id": "63abdaab",
   "metadata": {},
   "outputs": [],
   "source": [
    "#insert\n",
    "l1.insert(2,\"pokemon\")\n",
    "print(l1)"
   ]
  },
  {
   "cell_type": "code",
   "execution_count": null,
   "id": "8f7f5883",
   "metadata": {},
   "outputs": [],
   "source": [
    "#remove\n",
    "l=[1, 2, 'pokemon', 'str', [7, 8, 9], []]\n",
    "l.remove(1)\n",
    "print(l)"
   ]
  },
  {
   "cell_type": "code",
   "execution_count": null,
   "id": "4c37e4da",
   "metadata": {},
   "outputs": [],
   "source": [
    "#del\n",
    "del l[-1]\n",
    "print(l)"
   ]
  },
  {
   "cell_type": "code",
   "execution_count": null,
   "id": "137c5d58",
   "metadata": {},
   "outputs": [],
   "source": [
    "#count\n",
    "print(l.count(\"str\"))"
   ]
  },
  {
   "cell_type": "code",
   "execution_count": null,
   "id": "cb037a27",
   "metadata": {},
   "outputs": [],
   "source": [
    "#index\n",
    "print(l.index([7,8,9]))"
   ]
  },
  {
   "cell_type": "code",
   "execution_count": null,
   "id": "322b9b86",
   "metadata": {},
   "outputs": [],
   "source": [
    "#pop\n",
    "l=[6,5,4,3,2,1]\n",
    "x=l.pop()\n",
    "print(l)\n",
    "print(x)"
   ]
  },
  {
   "cell_type": "code",
   "execution_count": null,
   "id": "3fa321b5",
   "metadata": {},
   "outputs": [],
   "source": [
    "#extend\n",
    "l.extend([6,7,8,'pokemon'])\n",
    "print(l)\n",
    "\n",
    "###########################\n",
    "l1=['hello',69]\n",
    "l1.extend(l)\n",
    "print(l1)"
   ]
  },
  {
   "cell_type": "code",
   "execution_count": null,
   "id": "14284fc0",
   "metadata": {},
   "outputs": [],
   "source": [
    "#copy\n",
    "l2=l\n",
    "print(l2)\n",
    "\n",
    "########################\n",
    "l3=l.copy()\n",
    "print(l3)"
   ]
  },
  {
   "cell_type": "code",
   "execution_count": null,
   "id": "a7c538f5",
   "metadata": {},
   "outputs": [],
   "source": [
    "#sort\n",
    "l3.sort()\n",
    "l2.sort(reverse=True)\n",
    "print(\"l2=\",l2)\n",
    "print(\"l=\",l)\n",
    "print(\"l3=\",l3)\n",
    "\n",
    "# B. sort in decending\n",
    "l3.sort(reverse=True)\n",
    "print(l3)"
   ]
  },
  {
   "cell_type": "code",
   "execution_count": null,
   "id": "0a5da683",
   "metadata": {},
   "outputs": [],
   "source": [
    "#reverse\n",
    "l3.reverse()\n",
    "print(l3)"
   ]
  },
  {
   "cell_type": "markdown",
   "id": "916a2183",
   "metadata": {},
   "source": [
    "### user input list"
   ]
  },
  {
   "cell_type": "code",
   "execution_count": null,
   "id": "4c793a18",
   "metadata": {},
   "outputs": [],
   "source": [
    "l=[]\n",
    "x=int(input(\"enter size of list \"))\n",
    "for i in range (x):\n",
    "    p=int(input())\n",
    "    l.append(p)\n",
    "print(l)    "
   ]
  },
  {
   "cell_type": "code",
   "execution_count": null,
   "id": "b68a032e",
   "metadata": {},
   "outputs": [],
   "source": [
    "x=(input(\"enter list\"))\n",
    "l=x.split()\n",
    "print(l)"
   ]
  },
  {
   "cell_type": "code",
   "execution_count": null,
   "id": "c404c105",
   "metadata": {},
   "outputs": [],
   "source": [
    "l = input(\"Enter the elements \")\n",
    "p = [int(x) for x in l.split()]\n",
    "print(p)"
   ]
  },
  {
   "cell_type": "code",
   "execution_count": null,
   "id": "9db4d274",
   "metadata": {},
   "outputs": [],
   "source": [
    "input_list = list(map(int, input(\"Enter a list \").split()))\n",
    "print(input_list)"
   ]
  },
  {
   "cell_type": "markdown",
   "id": "f01ab8fe",
   "metadata": {},
   "source": [
    "## MAPPING - LAMBDA"
   ]
  },
  {
   "cell_type": "code",
   "execution_count": null,
   "id": "8887a4c6",
   "metadata": {},
   "outputs": [],
   "source": [
    "l = [1, 2, 3, 4, 5]\n",
    "nums = list(map(lambda x: x**2, l))\n",
    "print(nums)"
   ]
  },
  {
   "cell_type": "code",
   "execution_count": null,
   "id": "289adc59",
   "metadata": {},
   "outputs": [],
   "source": [
    "def mul(x,y):\n",
    "    return x*y\n",
    "\n",
    "x1=[1,2,3,4]\n",
    "y1=[2,3,4,5]\n",
    "\n",
    "x=list(map(mul,x1,y1))\n",
    "x"
   ]
  },
  {
   "cell_type": "code",
   "execution_count": null,
   "id": "b53a68d8",
   "metadata": {},
   "outputs": [],
   "source": [
    "s=list(map(int,input(\"Enter elemenets \").split(\",\")))\n",
    "s"
   ]
  },
  {
   "cell_type": "markdown",
   "id": "c2d8bb2a",
   "metadata": {},
   "source": [
    "## 12)Tuple"
   ]
  },
  {
   "cell_type": "code",
   "execution_count": null,
   "id": "449fa908",
   "metadata": {},
   "outputs": [],
   "source": [
    "t=()"
   ]
  },
  {
   "cell_type": "code",
   "execution_count": null,
   "id": "9480cbac",
   "metadata": {},
   "outputs": [],
   "source": [
    "#tuples are immutable\n",
    "t=(1,2,3)\n",
    "t1=list(t)\n",
    "t1.append(4)\n",
    "t=tuple(t1)\n",
    "print(t)"
   ]
  },
  {
   "cell_type": "code",
   "execution_count": null,
   "id": "cb1a4f7d",
   "metadata": {},
   "outputs": [],
   "source": [
    "t1=(1,2,3,4)\n",
    "t2=(5,6,7,8)\n",
    "t3=t1+t2\n",
    "print(t3)"
   ]
  },
  {
   "cell_type": "markdown",
   "id": "497f6861",
   "metadata": {},
   "source": [
    "## 13)SETS"
   ]
  },
  {
   "cell_type": "code",
   "execution_count": null,
   "id": "c22d7de5",
   "metadata": {},
   "outputs": [],
   "source": [
    "s={1,2,3,4,6,5}"
   ]
  },
  {
   "cell_type": "code",
   "execution_count": null,
   "id": "e65b3f2a",
   "metadata": {},
   "outputs": [],
   "source": [
    "print(s)"
   ]
  },
  {
   "cell_type": "code",
   "execution_count": null,
   "id": "bdead2fc",
   "metadata": {},
   "outputs": [],
   "source": [
    "#add\n",
    "s.add(8)\n",
    "s.add(\"a\")\n",
    "print(s)"
   ]
  },
  {
   "cell_type": "code",
   "execution_count": null,
   "id": "aeb9743d",
   "metadata": {},
   "outputs": [],
   "source": [
    "#remove\n",
    "s.remove(4)\n",
    "print(s)"
   ]
  },
  {
   "cell_type": "code",
   "execution_count": null,
   "id": "56223d97",
   "metadata": {},
   "outputs": [],
   "source": [
    "#to merge(update)\n",
    "s1={1,2,3,4}\n",
    "s2={5,6,7,8}\n",
    "s1.update(s2)\n",
    "print(s1)"
   ]
  },
  {
   "cell_type": "code",
   "execution_count": null,
   "id": "8144e2fd",
   "metadata": {},
   "outputs": [],
   "source": [
    "l=[10,100,1000,10000]\n",
    "s1.update(l)\n",
    "print(s1)\n",
    "type(s1) "
   ]
  },
  {
   "cell_type": "markdown",
   "id": "bf4d80e5",
   "metadata": {},
   "source": [
    "## 14)Dictionaries"
   ]
  },
  {
   "cell_type": "code",
   "execution_count": null,
   "id": "2dd3456c",
   "metadata": {},
   "outputs": [],
   "source": [
    "d={1 : 'a',2 : 'b',3 : 'c'}\n",
    "print(d)"
   ]
  },
  {
   "cell_type": "code",
   "execution_count": null,
   "id": "50829b06",
   "metadata": {},
   "outputs": [],
   "source": [
    "d[2]"
   ]
  },
  {
   "cell_type": "code",
   "execution_count": null,
   "id": "3bfe7417",
   "metadata": {},
   "outputs": [],
   "source": [
    "#to change value\n",
    "d[1]=\"z\"\n",
    "print(d)"
   ]
  },
  {
   "cell_type": "code",
   "execution_count": null,
   "id": "242fa3df",
   "metadata": {},
   "outputs": [],
   "source": [
    "#to enter new key value pair\n",
    "d[4]='d'\n",
    "print(d)"
   ]
  },
  {
   "cell_type": "code",
   "execution_count": null,
   "id": "20b125cc",
   "metadata": {},
   "outputs": [],
   "source": [
    "print(d.keys())\n",
    "print(d.values())"
   ]
  },
  {
   "cell_type": "code",
   "execution_count": null,
   "id": "5ca64de3",
   "metadata": {},
   "outputs": [],
   "source": [
    "#key can have more than one value\n",
    "d1={'x':(1,2),'y':(2,4),'z':(1,4)}\n",
    "d1"
   ]
  },
  {
   "cell_type": "code",
   "execution_count": null,
   "id": "393da204",
   "metadata": {},
   "outputs": [],
   "source": [
    "#creating dict using list\n",
    "D=dict([('a',(1,2)),('b',(1,2,\"p\")),('c',3)])\n",
    "print(D)"
   ]
  },
  {
   "cell_type": "code",
   "execution_count": null,
   "id": "230ba4ab",
   "metadata": {},
   "outputs": [],
   "source": [
    "#delete\n",
    "di={'a':1,'b':2,'c':3}\n",
    "del di['c']\n",
    "print(di)"
   ]
  },
  {
   "cell_type": "code",
   "execution_count": null,
   "id": "44b3ef57",
   "metadata": {},
   "outputs": [],
   "source": [
    "#for keys\n",
    "for key in di.keys():\n",
    "    print(key)"
   ]
  },
  {
   "cell_type": "code",
   "execution_count": null,
   "id": "8ff97a81",
   "metadata": {},
   "outputs": [],
   "source": [
    "#for values\n",
    "for val in di.values():\n",
    "    print(val)"
   ]
  },
  {
   "cell_type": "code",
   "execution_count": null,
   "id": "67807070",
   "metadata": {},
   "outputs": [],
   "source": [
    "#user input dict\n",
    "d={}\n",
    "l=int(input(\"enter length: \"))\n",
    "for i in range (l):\n",
    "    x=int(input(\"enter key \"))\n",
    "    y=input(\"enter value \")\n",
    "    d[x]=y\n",
    "print(d)    "
   ]
  },
  {
   "cell_type": "markdown",
   "id": "f1a3899b",
   "metadata": {},
   "source": [
    "# FUNCTIONS"
   ]
  },
  {
   "cell_type": "code",
   "execution_count": null,
   "id": "0afab323",
   "metadata": {},
   "outputs": [],
   "source": [
    "#absolute value\n",
    "abs(-5)"
   ]
  },
  {
   "cell_type": "code",
   "execution_count": null,
   "id": "2064fdfb",
   "metadata": {},
   "outputs": [],
   "source": [
    "l=[1,2,67,89,10,0,-57]"
   ]
  },
  {
   "cell_type": "code",
   "execution_count": null,
   "id": "2d9eea39",
   "metadata": {},
   "outputs": [],
   "source": [
    "print(\"max : \",max(l))\n",
    "print(\"min : \",min(l))\n",
    "print(\"sum :\",sum(l))"
   ]
  },
  {
   "cell_type": "code",
   "execution_count": null,
   "id": "03d65887",
   "metadata": {},
   "outputs": [],
   "source": [
    "pow(2,3)"
   ]
  },
  {
   "cell_type": "code",
   "execution_count": null,
   "id": "1a5ea6bd",
   "metadata": {},
   "outputs": [],
   "source": [
    "round(18.5)"
   ]
  },
  {
   "cell_type": "markdown",
   "id": "33c69ba1",
   "metadata": {},
   "source": [
    "## Math Module"
   ]
  },
  {
   "cell_type": "code",
   "execution_count": null,
   "id": "aa1f3153",
   "metadata": {},
   "outputs": [],
   "source": [
    "import math"
   ]
  },
  {
   "cell_type": "code",
   "execution_count": null,
   "id": "6d8795b8",
   "metadata": {},
   "outputs": [],
   "source": [
    "#ceiling value\n",
    "math.ceil(2.9)"
   ]
  },
  {
   "cell_type": "code",
   "execution_count": null,
   "id": "9dbada6b",
   "metadata": {},
   "outputs": [],
   "source": [
    "#floor value\n",
    "math.floor(2.1)"
   ]
  },
  {
   "cell_type": "code",
   "execution_count": null,
   "id": "7084aeca",
   "metadata": {},
   "outputs": [],
   "source": [
    "#log\n",
    "math.log(2,10)"
   ]
  },
  {
   "cell_type": "code",
   "execution_count": null,
   "id": "3dfa1dd0",
   "metadata": {},
   "outputs": [],
   "source": [
    "math.sqrt(25)"
   ]
  },
  {
   "cell_type": "markdown",
   "id": "1b66ff3e",
   "metadata": {},
   "source": [
    "## Other in build functions"
   ]
  },
  {
   "cell_type": "code",
   "execution_count": null,
   "id": "4c7c8aa0",
   "metadata": {},
   "outputs": [],
   "source": [
    "#order or ascii value\n",
    "ord('A')"
   ]
  },
  {
   "cell_type": "code",
   "execution_count": null,
   "id": "aec841e3",
   "metadata": {},
   "outputs": [],
   "source": [
    "#char asci number\n",
    "chr(97)"
   ]
  },
  {
   "cell_type": "code",
   "execution_count": null,
   "id": "487a5780",
   "metadata": {},
   "outputs": [],
   "source": [
    "#rotation\n",
    "s=\"ABCD\"\n",
    "s1=\"\"\n",
    "for i in s:\n",
    "    s1=s1+chr(ord(i)+1)\n",
    "print(s1)    "
   ]
  },
  {
   "cell_type": "code",
   "execution_count": null,
   "id": "006ead62",
   "metadata": {},
   "outputs": [],
   "source": [
    "def hello():\n",
    "    print(\"Hello World!\")\n",
    "if __name__==\"__main__\":\n",
    "    hello()"
   ]
  },
  {
   "cell_type": "markdown",
   "id": "bfd1b85b",
   "metadata": {},
   "source": [
    "## list operation with functions"
   ]
  },
  {
   "cell_type": "code",
   "execution_count": null,
   "id": "ef2cf924",
   "metadata": {},
   "outputs": [],
   "source": [
    "def add_list(l):\n",
    "    s=0\n",
    "    for i in l:\n",
    "        s=s+i\n",
    "    return s  \n",
    "\n",
    "l=[1,2,3,4,5]\n",
    "print(add_list(l))\n",
    "\n",
    "  "
   ]
  },
  {
   "cell_type": "code",
   "execution_count": null,
   "id": "d48fb472",
   "metadata": {},
   "outputs": [],
   "source": [
    "l=list(map(int,input(\"enter list number\").split(\" \")))\n",
    "print(add_list(l))"
   ]
  },
  {
   "cell_type": "code",
   "execution_count": null,
   "id": "53ba4ef2",
   "metadata": {},
   "outputs": [],
   "source": [
    "def fun(l):\n",
    "    l1=[]\n",
    "    for i in l:\n",
    "        if i%2==0:\n",
    "            l1.append(i)\n",
    "    return l1\n",
    "\n",
    "print(fun(l))"
   ]
  },
  {
   "cell_type": "code",
   "execution_count": null,
   "id": "4f6e2d33",
   "metadata": {},
   "outputs": [],
   "source": [
    "def odd_even(x):\n",
    "    if x%2!=0:\n",
    "        return True\n",
    "    else:\n",
    "        return False\n",
    "    \n",
    "l=[1,2,3,4,5,6]\n",
    "for i in l:\n",
    "    if(odd_even(i)):\n",
    "        print(\"{} is odd\".format(i))\n",
    "    else:\n",
    "        print(\"{} is evev\".format(i))    "
   ]
  },
  {
   "cell_type": "markdown",
   "id": "4a943616",
   "metadata": {},
   "source": [
    "### Yeild"
   ]
  },
  {
   "cell_type": "code",
   "execution_count": null,
   "id": "6e053b7e",
   "metadata": {},
   "outputs": [],
   "source": [
    "def fun(l):\n",
    "    for i in l:\n",
    "        if i%2==0:\n",
    "            yield i;\n",
    "for x in fun(l):\n",
    "    print(x)\n",
    "print(fun(l))"
   ]
  },
  {
   "cell_type": "code",
   "execution_count": null,
   "id": "074829d3",
   "metadata": {},
   "outputs": [],
   "source": [
    "def fun():\n",
    "    yield \"first\"\n",
    "    yield \"second\"\n",
    "    yield \"third\"\n",
    "    \n",
    "    \n",
    "for x in fun():\n",
    "    print(x)"
   ]
  },
  {
   "cell_type": "code",
   "execution_count": null,
   "id": "c901d65e",
   "metadata": {},
   "outputs": [],
   "source": [
    "def fact(n):\n",
    "    if n==0 or n==1:\n",
    "        return 1\n",
    "    return n* fact(n-1)\n",
    "print(fact(3))"
   ]
  },
  {
   "cell_type": "markdown",
   "id": "21238a41",
   "metadata": {},
   "source": [
    "## 16.LIST COMPREHENSION"
   ]
  },
  {
   "cell_type": "markdown",
   "id": "da800369",
   "metadata": {},
   "source": [
    "### L=[expression for item in iterable if condition]"
   ]
  },
  {
   "cell_type": "code",
   "execution_count": null,
   "id": "12e8c964",
   "metadata": {},
   "outputs": [],
   "source": [
    "l=[1,2,3,4,5,6,7,8,9,10]\n",
    "l1=[]\n",
    "for i in l:\n",
    "    if i>5:\n",
    "        l1.append(i)\n",
    "print(l1)"
   ]
  },
  {
   "cell_type": "code",
   "execution_count": null,
   "id": "9db3b2a6",
   "metadata": {},
   "outputs": [],
   "source": [
    "l2=[i for i in l if i>5]\n",
    "print(l2)"
   ]
  },
  {
   "cell_type": "markdown",
   "id": "69d7bf99",
   "metadata": {},
   "source": [
    "## asssignment"
   ]
  },
  {
   "cell_type": "code",
   "execution_count": null,
   "id": "411eec14",
   "metadata": {},
   "outputs": [],
   "source": [
    "from IPython import display\n",
    "display.Image(\"img_jyp/img01.png\")"
   ]
  },
  {
   "cell_type": "markdown",
   "id": "4dccca37",
   "metadata": {},
   "source": [
    "## Que1"
   ]
  },
  {
   "cell_type": "code",
   "execution_count": null,
   "id": "75b16803",
   "metadata": {},
   "outputs": [],
   "source": [
    "def sq(x):\n",
    "    return x*x\n",
    "\n",
    "l=map(int,input(\"enter elements :\").split(\" \"))\n",
    "nums = list(map(sq,l))\n",
    "print(nums)"
   ]
  },
  {
   "cell_type": "markdown",
   "id": "57c0afd5",
   "metadata": {},
   "source": [
    "## Que2"
   ]
  },
  {
   "cell_type": "code",
   "execution_count": null,
   "id": "41f26d6b",
   "metadata": {},
   "outputs": [],
   "source": [
    "# l=input(\"enter number\")\n",
    "# p=[int(x) for x in l.split()]\n",
    "for i in range (100):\n",
    "    if(i%3 == 0) and (i%5 ==0):\n",
    "        print(i,end=\" \")"
   ]
  },
  {
   "cell_type": "markdown",
   "id": "dbb6c329",
   "metadata": {},
   "source": [
    "## Que3"
   ]
  },
  {
   "cell_type": "code",
   "execution_count": null,
   "id": "b25a2fff",
   "metadata": {},
   "outputs": [],
   "source": [
    "def vow(x):\n",
    "    vowels=\"aeiouAEIOU\"\n",
    "    if x in vowels:\n",
    "        return \"vowel\"\n",
    "    else:\n",
    "        return \"Consonant\"\n",
    "print(vow(\"o\"))"
   ]
  },
  {
   "cell_type": "markdown",
   "id": "fe76d86c",
   "metadata": {},
   "source": [
    "## Que4"
   ]
  },
  {
   "cell_type": "code",
   "execution_count": null,
   "id": "f2577c35",
   "metadata": {},
   "outputs": [],
   "source": [
    "x,y=(input(\"enter 2 numbers \").split(\" \"))\n",
    "a,b=ord(x),ord(y)\n",
    "print(abs(a-b))"
   ]
  },
  {
   "cell_type": "markdown",
   "id": "066ba7fb",
   "metadata": {},
   "source": [
    "## Que5"
   ]
  },
  {
   "cell_type": "code",
   "execution_count": null,
   "id": "bc905268",
   "metadata": {},
   "outputs": [],
   "source": [
    "def cont(x):\n",
    "    vowels=\"aeiouAEIOU\"\n",
    "    c=0\n",
    "    for i in x:\n",
    "        if i in vowels:\n",
    "            c+=1\n",
    "    return c\n",
    "p=\"ayush\"\n",
    "print(cont(p))"
   ]
  },
  {
   "cell_type": "markdown",
   "id": "972d3459",
   "metadata": {},
   "source": [
    "## Que6"
   ]
  },
  {
   "cell_type": "code",
   "execution_count": null,
   "id": "8c182a7e",
   "metadata": {},
   "outputs": [],
   "source": [
    "A,Z=ord(\"A\"),ord(\"Z\")\n",
    "a,z=ord(\"a\"),ord(\"z\")\n",
    "for i in range (A,Z+1):\n",
    "    print(chr(i),end=\" \")\n",
    "print()\n",
    "for i in range (a,z+1):\n",
    "    print(chr(i),end=\" \")"
   ]
  },
  {
   "cell_type": "markdown",
   "id": "445e032e",
   "metadata": {},
   "source": [
    "## Que7"
   ]
  },
  {
   "cell_type": "code",
   "execution_count": null,
   "id": "56593c09",
   "metadata": {},
   "outputs": [],
   "source": [
    "p=input(\"enter elements \")\n",
    "l=[int(x) for x in p.split(\" \")]\n",
    "count=0\n",
    "for i in l:\n",
    "    if i%2==0:\n",
    "        count=count+i\n",
    "print(count)"
   ]
  },
  {
   "cell_type": "markdown",
   "id": "1279decc",
   "metadata": {},
   "source": [
    "## Que8\n"
   ]
  },
  {
   "cell_type": "code",
   "execution_count": null,
   "id": "4eafbb69",
   "metadata": {},
   "outputs": [],
   "source": [
    "def fun(x):\n",
    "    if x%3==0:\n",
    "        pass\n",
    "    else:\n",
    "        return x*x\n",
    "l=map(int,input(\"enter elements :\").split(\" \"))\n",
    "nums = list(filter(None,map(fun,l)))\n",
    "print(nums)\n",
    "# print(list(filter(None,nums)))"
   ]
  },
  {
   "cell_type": "markdown",
   "id": "016c4304",
   "metadata": {},
   "source": [
    "## Que9"
   ]
  },
  {
   "cell_type": "code",
   "execution_count": null,
   "id": "91943b41",
   "metadata": {},
   "outputs": [],
   "source": [
    "def rep(x):\n",
    "    s=\"\"\n",
    "    #s=x.replace('A','a')\n",
    "    for i in x:\n",
    "        if i == 'A':\n",
    "            s+='a'\n",
    "        else:\n",
    "            s+=i\n",
    "    return s\n",
    "\n",
    "a,y=input(\"enter 2 strings :\").split(\" \")\n",
    "a1,a2=rep(a),rep(y)\n",
    "s=a1+a2\n",
    "print(s)"
   ]
  },
  {
   "cell_type": "markdown",
   "id": "1f72808b",
   "metadata": {},
   "source": [
    "## Que10"
   ]
  },
  {
   "cell_type": "code",
   "execution_count": null,
   "id": "c4384c94",
   "metadata": {},
   "outputs": [],
   "source": [
    "l=list(map(int,input(\"enter numbers \").split(\" \")))\n",
    "odd=[odds for odds in l if odds%2!=0]\n",
    "print(odd)"
   ]
  },
  {
   "cell_type": "markdown",
   "id": "e2ed6930",
   "metadata": {},
   "source": [
    "## Que11"
   ]
  },
  {
   "cell_type": "code",
   "execution_count": null,
   "id": "cdb3a411",
   "metadata": {},
   "outputs": [],
   "source": [
    "def replace(x):\n",
    "    st=\"\"\n",
    "    for i in x:\n",
    "        if i.isupper():\n",
    "            st+=i.lower()\n",
    "        elif i.islower():\n",
    "            st+=i.upper()\n",
    "    return st\n",
    "st=input(\"enter string :\")\n",
    "p=replace(st)\n",
    "print(p)"
   ]
  },
  {
   "cell_type": "code",
   "execution_count": null,
   "id": "9620625c",
   "metadata": {},
   "outputs": [],
   "source": []
  },
  {
   "cell_type": "code",
   "execution_count": null,
   "id": "d8fd23c5",
   "metadata": {},
   "outputs": [],
   "source": []
  }
 ],
 "metadata": {
  "kernelspec": {
   "display_name": "Python 3 (ipykernel)",
   "language": "python",
   "name": "python3"
  },
  "language_info": {
   "codemirror_mode": {
    "name": "ipython",
    "version": 3
   },
   "file_extension": ".py",
   "mimetype": "text/x-python",
   "name": "python",
   "nbconvert_exporter": "python",
   "pygments_lexer": "ipython3",
   "version": "3.9.13"
  }
 },
 "nbformat": 4,
 "nbformat_minor": 5
}
